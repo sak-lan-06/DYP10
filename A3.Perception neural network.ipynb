{
 "cells": [
  {
   "cell_type": "code",
   "execution_count": 1,
   "id": "45073663",
   "metadata": {},
   "outputs": [
    {
     "name": "stdout",
     "output_type": "stream",
     "text": [
      "Digit | Predicted | Actual | Even/Odd\n",
      "--------------------------------------\n",
      "  0   |    0     |   0  |  Even\n",
      "  1   |    1     |   1  |  Odd\n",
      "  2   |    0     |   0  |  Even\n",
      "  3   |    1     |   1  |  Odd\n",
      "  4   |    0     |   0  |  Even\n",
      "  5   |    1     |   1  |  Odd\n",
      "  6   |    0     |   0  |  Even\n",
      "  7   |    1     |   1  |  Odd\n",
      "  8   |    0     |   0  |  Even\n",
      "  9   |    1     |   1  |  Odd\n"
     ]
    }
   ],
   "source": [
    "import numpy as np\n",
    "\n",
    "class Perceptron:\n",
    "    def __init__(self, input_size, learning_rate=0.1, epochs=100):\n",
    "        self.weights = np.zeros(input_size + 1)  # +1 for bias\n",
    "        self.learning_rate = learning_rate\n",
    "        self.epochs = epochs\n",
    "\n",
    "    def activation(self, x):\n",
    "        return 1 if x >= 0 else 0\n",
    "\n",
    "    def predict(self, x):\n",
    "        z = self.weights.T.dot(np.insert(x, 0, 1))  # Insert bias input of 1\n",
    "        return self.activation(z)\n",
    "\n",
    "    def train(self, X, y):\n",
    "        for _ in range(self.epochs):\n",
    "            for inputs, label in zip(X, y):\n",
    "                prediction = self.predict(inputs)\n",
    "                error = label - prediction\n",
    "                self.weights[1:] += self.learning_rate * error * inputs\n",
    "                self.weights[0] += self.learning_rate * error  # bias update\n",
    "\n",
    "def ascii_to_input(char):\n",
    "    # Convert ASCII character digit to normalized input vector\n",
    "    # Here we use one-hot encoding for digits 0-9\n",
    "    vector = np.zeros(10)\n",
    "    vector[int(char)] = 1\n",
    "    return vector\n",
    "\n",
    "def main():\n",
    "    # Dataset: digits 0-9 in ASCII form\n",
    "    digits = [str(i) for i in range(10)]\n",
    "    X = np.array([ascii_to_input(d) for d in digits])\n",
    "\n",
    "    # Labels: 0 for even, 1 for odd\n",
    "    y = np.array([0 if int(d) % 2 == 0 else 1 for d in digits])\n",
    "\n",
    "    perceptron = Perceptron(input_size=10, learning_rate=0.1, epochs=20)\n",
    "    perceptron.train(X, y)\n",
    "\n",
    "    print(\"Digit | Predicted | Actual | Even/Odd\")\n",
    "    print(\"--------------------------------------\")\n",
    "    for d, label in zip(digits, y):\n",
    "        prediction = perceptron.predict(ascii_to_input(d))\n",
    "        pred_str = \"Even\" if prediction == 0 else \"Odd\"\n",
    "        actual_str = \"Even\" if label == 0 else \"Odd\"\n",
    "        print(f\"  {d}   |    {prediction}     |   {label}  |  {pred_str}\")\n",
    "\n",
    "if __name__ == \"__main__\":\n",
    "    main()\n"
   ]
  }
 ],
 "metadata": {
  "kernelspec": {
   "display_name": "base",
   "language": "python",
   "name": "python3"
  },
  "language_info": {
   "codemirror_mode": {
    "name": "ipython",
    "version": 3
   },
   "file_extension": ".py",
   "mimetype": "text/x-python",
   "name": "python",
   "nbconvert_exporter": "python",
   "pygments_lexer": "ipython3",
   "version": "3.12.7"
  }
 },
 "nbformat": 4,
 "nbformat_minor": 5
}
