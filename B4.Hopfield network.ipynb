{
 "cells": [
  {
   "cell_type": "code",
   "execution_count": 1,
   "id": "e95b6481",
   "metadata": {},
   "outputs": [
    {
     "name": "stdout",
     "output_type": "stream",
     "text": [
      "Stored patterns:\n",
      "[ 1 -1  1 -1]\n",
      "[ 1  1 -1 -1]\n",
      "[-1 -1  1  1]\n",
      "[1 1 1 1]\n",
      "\n",
      "Test pattern (noisy):\n",
      "[ 1 -1 -1 -1]\n",
      "\n",
      "Recovered pattern after convergence:\n",
      "[ 1  1 -1 -1]\n"
     ]
    }
   ],
   "source": [
    "import numpy as np\n",
    "\n",
    "# Define 4 patterns (4-dimensional bipolar vectors)\n",
    "patterns = np.array([\n",
    "    [1, -1, 1, -1],\n",
    "    [1, 1, -1, -1],\n",
    "    [-1, -1, 1, 1],\n",
    "    [1, 1, 1, 1]\n",
    "])\n",
    "\n",
    "# Initialize weight matrix\n",
    "weights = np.zeros((4, 4))\n",
    "\n",
    "# Train the network using Hebbian learning rule\n",
    "for p in patterns:\n",
    "    weights += np.outer(p, p)\n",
    "\n",
    "# Remove self-connections\n",
    "np.fill_diagonal(weights, 0)\n",
    "\n",
    "def update(state, weights):\n",
    "    prev_state = np.zeros_like(state)\n",
    "    while not np.array_equal(state, prev_state):\n",
    "        prev_state = state.copy()\n",
    "        for i in range(len(state)):\n",
    "            raw_input = np.dot(weights[i], state)\n",
    "            state[i] = 1 if raw_input >= 0 else -1\n",
    "    return state\n",
    "\n",
    "if __name__ == \"__main__\":\n",
    "    print(\"Stored patterns:\")\n",
    "    for p in patterns:\n",
    "        print(p)\n",
    "\n",
    "    # Test with a noisy version of the first pattern\n",
    "    test_pattern = np.array([1, -1, -1, -1])  # flipped one bit\n",
    "    print(\"\\nTest pattern (noisy):\")\n",
    "    print(test_pattern)\n",
    "\n",
    "    recovered = update(test_pattern.copy(), weights)\n",
    "    print(\"\\nRecovered pattern after convergence:\")\n",
    "    print(recovered)\n"
   ]
  }
 ],
 "metadata": {
  "kernelspec": {
   "display_name": "Python 3",
   "language": "python",
   "name": "python3"
  },
  "language_info": {
   "codemirror_mode": {
    "name": "ipython",
    "version": 3
   },
   "file_extension": ".py",
   "mimetype": "text/x-python",
   "name": "python",
   "nbconvert_exporter": "python",
   "pygments_lexer": "ipython3",
   "version": "3.13.2"
  }
 },
 "nbformat": 4,
 "nbformat_minor": 5
}
