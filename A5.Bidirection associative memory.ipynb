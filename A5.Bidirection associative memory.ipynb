{
 "cells": [
  {
   "cell_type": "code",
   "execution_count": 1,
   "id": "9aaf2032",
   "metadata": {},
   "outputs": [
    {
     "name": "stdout",
     "output_type": "stream",
     "text": [
      "Recall y from x1: [-1.  1. -1.  1.]\n",
      "Recall y from x2: [ 1.  1. -1. -1.]\n",
      "Recall x from y1: [ 1. -1.  1. -1.]\n",
      "Recall x from y2: [-1. -1.  1.  1.]\n"
     ]
    }
   ],
   "source": [
    "import numpy as np\n",
    "\n",
    "def train_bam(pairs):\n",
    "    weight = np.zeros((len(pairs[0][0]), len(pairs[0][1])))\n",
    "    for x, y in pairs:\n",
    "        weight += np.outer(x, y)\n",
    "    return weight\n",
    "\n",
    "def recall_x(weight, y, steps=5):\n",
    "    x = np.sign(np.dot(weight, y))\n",
    "    for _ in range(steps):\n",
    "        y_new = np.sign(np.dot(x.T, weight))\n",
    "        x_new = np.sign(np.dot(weight, y_new))\n",
    "        if np.array_equal(x, x_new):\n",
    "            break\n",
    "        x = x_new\n",
    "    return x\n",
    "\n",
    "def recall_y(weight, x, steps=5):\n",
    "    y = np.sign(np.dot(x.T, weight))\n",
    "    for _ in range(steps):\n",
    "        x_new = np.sign(np.dot(weight, y))\n",
    "        y_new = np.sign(np.dot(x_new.T, weight))\n",
    "        if np.array_equal(y, y_new):\n",
    "            break\n",
    "        y = y_new\n",
    "    return y\n",
    "\n",
    "if __name__ == \"__main__\":\n",
    "    # Define two pairs of bipolar vectors\n",
    "    x1 = np.array([1, -1, 1, -1])\n",
    "    y1 = np.array([-1, 1, -1, 1])\n",
    "    x2 = np.array([-1, -1, 1, 1])\n",
    "    y2 = np.array([1, 1, -1, -1])\n",
    "\n",
    "    pairs = [(x1, y1), (x2, y2)]\n",
    "\n",
    "    weight = train_bam(pairs)\n",
    "\n",
    "    print(\"Recall y from x1:\", recall_y(weight, x1))\n",
    "    print(\"Recall y from x2:\", recall_y(weight, x2))\n",
    "    print(\"Recall x from y1:\", recall_x(weight, y1))\n",
    "    print(\"Recall x from y2:\", recall_x(weight, y2))\n"
   ]
  }
 ],
 "metadata": {
  "kernelspec": {
   "display_name": "base",
   "language": "python",
   "name": "python3"
  },
  "language_info": {
   "codemirror_mode": {
    "name": "ipython",
    "version": 3
   },
   "file_extension": ".py",
   "mimetype": "text/x-python",
   "name": "python",
   "nbconvert_exporter": "python",
   "pygments_lexer": "ipython3",
   "version": "3.12.7"
  }
 },
 "nbformat": 4,
 "nbformat_minor": 5
}
