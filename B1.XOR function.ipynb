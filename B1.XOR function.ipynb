{
 "cells": [
  {
   "cell_type": "code",
   "execution_count": 1,
   "id": "b7c6cf91",
   "metadata": {},
   "outputs": [
    {
     "name": "stdout",
     "output_type": "stream",
     "text": [
      "Output after training:\n",
      "[[0.]\n",
      " [1.]\n",
      " [1.]\n",
      " [0.]]\n"
     ]
    }
   ],
   "source": [
    "import numpy as np\n",
    "\n",
    "def sigmoid(x):\n",
    "    return 1 / (1 + np.exp(-x))\n",
    "\n",
    "def sigmoid_derivative(x):\n",
    "    return x * (1 - x)\n",
    "\n",
    "inputs = np.array([[0,0],[0,1],[1,0],[1,1]])\n",
    "expected = np.array([[0],[1],[1],[0]])\n",
    "\n",
    "np.random.seed(1)\n",
    "hidden_weights = np.random.rand(2,2)\n",
    "hidden_bias = np.random.rand(1,2)\n",
    "output_weights = np.random.rand(2,1)\n",
    "output_bias = np.random.rand(1,1)\n",
    "\n",
    "lr = 0.5\n",
    "\n",
    "for _ in range(10000):\n",
    "    hidden_layer = sigmoid(np.dot(inputs, hidden_weights) + hidden_bias)\n",
    "    output_layer = sigmoid(np.dot(hidden_layer, output_weights) + output_bias)\n",
    "\n",
    "    error = expected - output_layer\n",
    "    d_output = error * sigmoid_derivative(output_layer)\n",
    "\n",
    "    error_hidden = d_output.dot(output_weights.T)\n",
    "    d_hidden = error_hidden * sigmoid_derivative(hidden_layer)\n",
    "\n",
    "    output_weights += hidden_layer.T.dot(d_output) * lr\n",
    "    output_bias += np.sum(d_output, axis=0, keepdims=True) * lr\n",
    "    hidden_weights += inputs.T.dot(d_hidden) * lr\n",
    "    hidden_bias += np.sum(d_hidden, axis=0, keepdims=True) * lr\n",
    "\n",
    "print(\"Output after training:\")\n",
    "print(np.round(output_layer))\n"
   ]
  }
 ],
 "metadata": {
  "kernelspec": {
   "display_name": "Python 3",
   "language": "python",
   "name": "python3"
  },
  "language_info": {
   "codemirror_mode": {
    "name": "ipython",
    "version": 3
   },
   "file_extension": ".py",
   "mimetype": "text/x-python",
   "name": "python",
   "nbconvert_exporter": "python",
   "pygments_lexer": "ipython3",
   "version": "3.13.2"
  }
 },
 "nbformat": 4,
 "nbformat_minor": 5
}
